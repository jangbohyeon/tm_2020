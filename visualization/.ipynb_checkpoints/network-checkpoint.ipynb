{
 "cells": [
  {
   "cell_type": "code",
   "execution_count": null,
   "metadata": {},
   "outputs": [],
   "source": [
    "from konlpy.tag import Hannanum\n",
    "hannanum = Hannanum()\n",
    "#단어 : 2차원 리스트로 만들기word_dict\n",
    "voca_dataset = []\n",
    "for i in range(len(news_20200801['내용'])):\n",
    "    voca_dataset.append((hannanum.nouns(re.sub('[^가-힣a-zA-Z\\s]','',news_20200801['내용'][i])))) \n",
    "    #voca_dataset.append(lines[i])"
   ]
  },
  {
   "cell_type": "code",
   "execution_count": null,
   "metadata": {},
   "outputs": [],
   "source": [
    "from apyori import apriori\n",
    "#지지도\n",
    "result = (list(apriori(voca_dataset,min_support=0.01)))\n",
    "support = pd.DataFrame(result)\n",
    "support['length'] = support['items'].apply(lambda x: len(x))\n",
    "apriori = support[(support['length'] == 2) & (support['support'] >= 0.01)].sort_values(by='support', ascending=False)\n",
    "apriori.head(10)"
   ]
  },
  {
   "cell_type": "code",
   "execution_count": null,
   "metadata": {},
   "outputs": [],
   "source": [
    "import networkx as nx\n",
    "graph = nx.Graph()\n",
    "edge = (apriori['items']); graph.add_edges_from(edge)"
   ]
  },
  {
   "cell_type": "code",
   "execution_count": null,
   "metadata": {},
   "outputs": [],
   "source": [
    "pos = nx.planar_layout\n",
    "plt.figure(figsize=(16,12)); plt.axis('off')\n",
    "nx.draw_networkx(graph, font_family = 'KoPubDotum', font_size = 16,\n",
    "                pos = pos, node_color = ;ist(pr.values()), node_size = nsize,\n",
    "                alpha = 0.7, edge_color = '.5', cmap = plt.cm.YIGn)\n",
    "#plt.savefig('image.png', bbox_inches = 'tight')"
   ]
  }
 ],
 "metadata": {
  "kernelspec": {
   "display_name": "Python 3",
   "language": "python",
   "name": "python3"
  },
  "language_info": {
   "codemirror_mode": {
    "name": "ipython",
    "version": 3
   },
   "file_extension": ".py",
   "mimetype": "text/x-python",
   "name": "python",
   "nbconvert_exporter": "python",
   "pygments_lexer": "ipython3",
   "version": "3.7.2"
  }
 },
 "nbformat": 4,
 "nbformat_minor": 4
}
