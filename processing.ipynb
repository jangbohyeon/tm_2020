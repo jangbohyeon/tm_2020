{
 "cells": [
  {
   "cell_type": "code",
   "execution_count": 53,
   "metadata": {},
   "outputs": [],
   "source": [
    "import pandas as pd\n",
    "import os\n",
    "import sys\n",
    "\n",
    "mod = sys.modules[__name__]\n",
    "def excel_reader():\n",
    "    # 해당 경로에 있는 .xlsx 포맷의 파일이름을 리스트로 가져오기\n",
    "    path = \"/home/u1026/tm_2020/\"\n",
    "    file_list = os.listdir(path)\n",
    "    exfile_list = [i for i in file_list if os.path.splitext(i)[-1] == \".xlsx\"]\n",
    "\n",
    "    # 파일이름을 split 해 해당 파일의 날짜 리스트로 가져오기\n",
    "    fname_list = []\n",
    "    for i in range(len(exfile_list)):\n",
    "        fname_list += [exfile_list[i].split(\"-\")[0].split(\"_\")[1]]\n",
    "\n",
    "    # exfile_list에 있는 엑셀파일 모두 읽어오기\n",
    "    for k in range(len(exfile_list)):\n",
    "        file_locate = path + exfile_list[k]\n",
    "        setattr(mod, 'file_{}'.format(fname_list[k]), pd.read_excel(file_locate))"
   ]
  },
  {
   "cell_type": "code",
   "execution_count": 54,
   "metadata": {},
   "outputs": [],
   "source": [
    "excel_reader()"
   ]
  },
  {
   "cell_type": "code",
   "execution_count": 4,
   "metadata": {},
   "outputs": [
    {
     "data": {
      "text/html": [
       "<div>\n",
       "<style scoped>\n",
       "    .dataframe tbody tr th:only-of-type {\n",
       "        vertical-align: middle;\n",
       "    }\n",
       "\n",
       "    .dataframe tbody tr th {\n",
       "        vertical-align: top;\n",
       "    }\n",
       "\n",
       "    .dataframe thead th {\n",
       "        text-align: right;\n",
       "    }\n",
       "</style>\n",
       "<table border=\"1\" class=\"dataframe\">\n",
       "  <thead>\n",
       "    <tr style=\"text-align: right;\">\n",
       "      <th></th>\n",
       "      <th>뉴스 식별자</th>\n",
       "      <th>일자</th>\n",
       "      <th>언론사</th>\n",
       "      <th>기고자</th>\n",
       "      <th>제목</th>\n",
       "      <th>통합 분류1</th>\n",
       "      <th>통합 분류2</th>\n",
       "      <th>통합 분류3</th>\n",
       "      <th>사건/사고 분류1</th>\n",
       "      <th>사건/사고 분류2</th>\n",
       "      <th>사건/사고 분류3</th>\n",
       "      <th>인물</th>\n",
       "      <th>위치</th>\n",
       "      <th>기관</th>\n",
       "      <th>키워드</th>\n",
       "      <th>특성추출(가중치순 상위 50개)</th>\n",
       "      <th>본문</th>\n",
       "      <th>URL</th>\n",
       "      <th>분석제외 여부</th>\n",
       "    </tr>\n",
       "  </thead>\n",
       "  <tbody>\n",
       "    <tr>\n",
       "      <th>0</th>\n",
       "      <td>1.600201e+06</td>\n",
       "      <td>20200802.0</td>\n",
       "      <td>광주매일신문</td>\n",
       "      <td>오승지 기자</td>\n",
       "      <td>“금남로 일대 재개발, 주민 위한 사업으로 선회해야”</td>\n",
       "      <td>지역&gt;경남</td>\n",
       "      <td>지역&gt;경기</td>\n",
       "      <td>지역&gt;대전</td>\n",
       "      <td>NaN</td>\n",
       "      <td>NaN</td>\n",
       "      <td>NaN</td>\n",
       "      <td>NaN</td>\n",
       "      <td>아시아,광주시,북구,광주,금남로</td>\n",
       "      <td>중앙대,광주시,광주경제정의실천시민연합,원도심,광주환경운동연합,도심,북구청,북동</td>\n",
       "      <td>금남로,재개발,주민,사업,선회,광주,중심지,금남로,일대,추진,재개발사업,무분별,아파...</td>\n",
       "      <td>북동구역,광주,재개발,원도심,광주시,거주지,입장문,도시환경정비사업,금남로,역사성,주...</td>\n",
       "      <td>광주 중심지인 금남로 일대가 잇따라 추진되는 재개발사업으로 무분별한 아파트 건립이 ...</td>\n",
       "      <td>http://www.kjdaily.com/news_view.php?n=519483&amp;...</td>\n",
       "      <td>NaN</td>\n",
       "    </tr>\n",
       "    <tr>\n",
       "      <th>1</th>\n",
       "      <td>1.600201e+06</td>\n",
       "      <td>20200802.0</td>\n",
       "      <td>광주매일신문</td>\n",
       "      <td>김재정 기자</td>\n",
       "      <td>道, ‘영광 대마전기자동차산단’ 추가 조성</td>\n",
       "      <td>지역&gt;전남</td>\n",
       "      <td>지역&gt;강원</td>\n",
       "      <td>지역&gt;대구</td>\n",
       "      <td>NaN</td>\n",
       "      <td>NaN</td>\n",
       "      <td>NaN</td>\n",
       "      <td>NaN</td>\n",
       "      <td>중앙산업단지,전남도,영광 대마전기자동차산단,영광군,대마전기자동차산업단지</td>\n",
       "      <td>전남도,국토교통부,심의위원회,영광군,대마전기자동차산업단지</td>\n",
       "      <td>영광,대마전기자동차산단,추가,조성,전남도,대마전기자동차산업단지,영광,대마,전기,자동...</td>\n",
       "      <td>전남도,배후단지,영광군,모빌리티,산업단지,투자유치,영광,대마전기자동차산업단지,상반기...</td>\n",
       "      <td>전남도는 2일 “영광 대마전기자동차산업단지에 연구기관과 교육시설, 체험시설이 입주할...</td>\n",
       "      <td>http://www.kjdaily.com/news_view.php?n=519482&amp;...</td>\n",
       "      <td>NaN</td>\n",
       "    </tr>\n",
       "    <tr>\n",
       "      <th>2</th>\n",
       "      <td>NaN</td>\n",
       "      <td>NaN</td>\n",
       "      <td>NaN</td>\n",
       "      <td>NaN</td>\n",
       "      <td>NaN</td>\n",
       "      <td>미분류</td>\n",
       "      <td>NaN</td>\n",
       "      <td>NaN</td>\n",
       "      <td>NaN</td>\n",
       "      <td>NaN</td>\n",
       "      <td>NaN</td>\n",
       "      <td>NaN</td>\n",
       "      <td>NaN</td>\n",
       "      <td>NaN</td>\n",
       "      <td>NaN</td>\n",
       "      <td>NaN</td>\n",
       "      <td>NaN</td>\n",
       "      <td>NaN</td>\n",
       "      <td>NaN</td>\n",
       "    </tr>\n",
       "    <tr>\n",
       "      <th>3</th>\n",
       "      <td>1.101101e+06</td>\n",
       "      <td>20200802.0</td>\n",
       "      <td>한국일보</td>\n",
       "      <td>진달래</td>\n",
       "      <td>WHO 긴급위, 국제적 비상사태 유지키로 \"코로나 장기화 예상\"</td>\n",
       "      <td>국제&gt;유럽_EU</td>\n",
       "      <td>사회&gt;사회일반</td>\n",
       "      <td>국제&gt;러시아</td>\n",
       "      <td>NaN</td>\n",
       "      <td>NaN</td>\n",
       "      <td>NaN</td>\n",
       "      <td>아드하놈,거브러여수스,테워드로스</td>\n",
       "      <td>NaN</td>\n",
       "      <td>긴급위,긴급위원회,세계보건기구,회원,WHO</td>\n",
       "      <td>긴급위,유지,국제,비상,사태,코로나,장기,예상,비상,사태,선포,사무총장,코로나19,...</td>\n",
       "      <td>코로나19,비상사태,사무총장,팬데믹,긴급위,장기화,거브러여수스,대유행,코로나바이러스...</td>\n",
       "      <td>세계보건기구(WHO)가 신종 코로나바이러스 감염증(코로나19)에 대해 선포한 최고 ...</td>\n",
       "      <td>https://www.hankookilbo.com/News/Read/A2020080...</td>\n",
       "      <td>NaN</td>\n",
       "    </tr>\n",
       "    <tr>\n",
       "      <th>4</th>\n",
       "      <td>1.600201e+06</td>\n",
       "      <td>20200802.0</td>\n",
       "      <td>광주매일신문</td>\n",
       "      <td>김종민 기자</td>\n",
       "      <td>스쿨존내 불법 주정차 3일부터 주민 신고제</td>\n",
       "      <td>지역&gt;강원</td>\n",
       "      <td>지역&gt;대구</td>\n",
       "      <td>지역&gt;경남</td>\n",
       "      <td>NaN</td>\n",
       "      <td>NaN</td>\n",
       "      <td>NaN</td>\n",
       "      <td>NaN</td>\n",
       "      <td>NaN</td>\n",
       "      <td>광주시</td>\n",
       "      <td>스쿨존,불법,주정차,주민,신고제,광주시,3일,어린이보호구역,관내,초등학교,어린이,보...</td>\n",
       "      <td>어린이보호구역,주민신고제,주정차,교통안전,어린,버스정류소,정류소,횡단보도,교차로,공...</td>\n",
       "      <td>광주시는 “3일부터 관내 초등학교 어린이보호구역 내 불법주정차 주민신고제를 본격 시...</td>\n",
       "      <td>http://www.kjdaily.com/news_view.php?n=519476&amp;...</td>\n",
       "      <td>NaN</td>\n",
       "    </tr>\n",
       "  </tbody>\n",
       "</table>\n",
       "</div>"
      ],
      "text/plain": [
       "         뉴스 식별자          일자     언론사     기고자  \\\n",
       "0  1.600201e+06  20200802.0  광주매일신문  오승지 기자   \n",
       "1  1.600201e+06  20200802.0  광주매일신문  김재정 기자   \n",
       "2           NaN         NaN     NaN     NaN   \n",
       "3  1.101101e+06  20200802.0    한국일보     진달래   \n",
       "4  1.600201e+06  20200802.0  광주매일신문  김종민 기자   \n",
       "\n",
       "                                    제목    통합 분류1    통합 분류2   통합 분류3 사건/사고 분류1  \\\n",
       "0        “금남로 일대 재개발, 주민 위한 사업으로 선회해야”     지역>경남     지역>경기    지역>대전       NaN   \n",
       "1              道, ‘영광 대마전기자동차산단’ 추가 조성     지역>전남     지역>강원    지역>대구       NaN   \n",
       "2                                  NaN       미분류       NaN      NaN       NaN   \n",
       "3  WHO 긴급위, 국제적 비상사태 유지키로 \"코로나 장기화 예상\"  국제>유럽_EU   사회>사회일반   국제>러시아       NaN   \n",
       "4              스쿨존내 불법 주정차 3일부터 주민 신고제     지역>강원     지역>대구    지역>경남       NaN   \n",
       "\n",
       "  사건/사고 분류2 사건/사고 분류3                 인물  \\\n",
       "0       NaN       NaN                NaN   \n",
       "1       NaN       NaN                NaN   \n",
       "2       NaN       NaN                NaN   \n",
       "3       NaN       NaN  아드하놈,거브러여수스,테워드로스   \n",
       "4       NaN       NaN                NaN   \n",
       "\n",
       "                                        위치  \\\n",
       "0                        아시아,광주시,북구,광주,금남로   \n",
       "1  중앙산업단지,전남도,영광 대마전기자동차산단,영광군,대마전기자동차산업단지   \n",
       "2                                      NaN   \n",
       "3                                      NaN   \n",
       "4                                      NaN   \n",
       "\n",
       "                                            기관  \\\n",
       "0  중앙대,광주시,광주경제정의실천시민연합,원도심,광주환경운동연합,도심,북구청,북동   \n",
       "1              전남도,국토교통부,심의위원회,영광군,대마전기자동차산업단지   \n",
       "2                                          NaN   \n",
       "3                      긴급위,긴급위원회,세계보건기구,회원,WHO   \n",
       "4                                          광주시   \n",
       "\n",
       "                                                 키워드  \\\n",
       "0  금남로,재개발,주민,사업,선회,광주,중심지,금남로,일대,추진,재개발사업,무분별,아파...   \n",
       "1  영광,대마전기자동차산단,추가,조성,전남도,대마전기자동차산업단지,영광,대마,전기,자동...   \n",
       "2                                                NaN   \n",
       "3  긴급위,유지,국제,비상,사태,코로나,장기,예상,비상,사태,선포,사무총장,코로나19,...   \n",
       "4  스쿨존,불법,주정차,주민,신고제,광주시,3일,어린이보호구역,관내,초등학교,어린이,보...   \n",
       "\n",
       "                                   특성추출(가중치순 상위 50개)  \\\n",
       "0  북동구역,광주,재개발,원도심,광주시,거주지,입장문,도시환경정비사업,금남로,역사성,주...   \n",
       "1  전남도,배후단지,영광군,모빌리티,산업단지,투자유치,영광,대마전기자동차산업단지,상반기...   \n",
       "2                                                NaN   \n",
       "3  코로나19,비상사태,사무총장,팬데믹,긴급위,장기화,거브러여수스,대유행,코로나바이러스...   \n",
       "4  어린이보호구역,주민신고제,주정차,교통안전,어린,버스정류소,정류소,횡단보도,교차로,공...   \n",
       "\n",
       "                                                  본문  \\\n",
       "0  광주 중심지인 금남로 일대가 잇따라 추진되는 재개발사업으로 무분별한 아파트 건립이 ...   \n",
       "1  전남도는 2일 “영광 대마전기자동차산업단지에 연구기관과 교육시설, 체험시설이 입주할...   \n",
       "2                                                NaN   \n",
       "3  세계보건기구(WHO)가 신종 코로나바이러스 감염증(코로나19)에 대해 선포한 최고 ...   \n",
       "4  광주시는 “3일부터 관내 초등학교 어린이보호구역 내 불법주정차 주민신고제를 본격 시...   \n",
       "\n",
       "                                                 URL 분석제외 여부  \n",
       "0  http://www.kjdaily.com/news_view.php?n=519483&...     NaN  \n",
       "1  http://www.kjdaily.com/news_view.php?n=519482&...     NaN  \n",
       "2                                                NaN     NaN  \n",
       "3  https://www.hankookilbo.com/News/Read/A2020080...     NaN  \n",
       "4  http://www.kjdaily.com/news_view.php?n=519476&...     NaN  "
      ]
     },
     "execution_count": 4,
     "metadata": {},
     "output_type": "execute_result"
    }
   ],
   "source": [
    "file_20200801.head()\n",
    "file_20200802.head()"
   ]
  },
  {
   "cell_type": "code",
   "execution_count": 55,
   "metadata": {},
   "outputs": [
    {
     "name": "stderr",
     "output_type": "stream",
     "text": [
      "/home/u1026/.local/lib/python3.7/site-packages/ipykernel_launcher.py:12: SettingWithCopyWarning: \n",
      "A value is trying to be set on a copy of a slice from a DataFrame\n",
      "\n",
      "See the caveats in the documentation: https://pandas.pydata.org/pandas-docs/stable/user_guide/indexing.html#returning-a-view-versus-a-copy\n",
      "  if sys.path[0] == '':\n"
     ]
    }
   ],
   "source": [
    "import pandas as pd\n",
    "#file_190801 = pd.read_csv('~/tm_2020/NewsResult_20190801-20190801.csv')\n",
    "\n",
    "columns_name = ['일자', '제목', '본문', '인물', '기관', '키워드', '특성추출(가중치순 상위 50개)', 'URL']\n",
    "file_20200801 = file_20200801[columns_name]\n",
    "file_20200802 = file_20200802[columns_name]\n",
    "\n",
    "news_20200801 = file_20200801\n",
    "news_20200802 = file_20200802\n",
    "\n",
    "#제목 마지막에 공백을 넣어 본문과 합칠 때 자연스럽게 합치게 함\n",
    "for i in range(0,len(news_20200801)):\n",
    "    news_20200801['제목'][i] = news_20200801['제목'][i] + ' '\n",
    "\n",
    "news_20200801['내용'] = file_20200801.iloc[:, 1:3].sum(1)\n",
    "news_20200802['내용'] = file_20200802.iloc[:, 1:3].sum(1)"
   ]
  },
  {
   "cell_type": "code",
   "execution_count": 59,
   "metadata": {},
   "outputs": [
    {
     "name": "stderr",
     "output_type": "stream",
     "text": [
      "/home/u1026/.local/lib/python3.7/site-packages/ipykernel_launcher.py:2: SettingWithCopyWarning: \n",
      "A value is trying to be set on a copy of a slice from a DataFrame\n",
      "\n",
      "See the caveats in the documentation: https://pandas.pydata.org/pandas-docs/stable/user_guide/indexing.html#returning-a-view-versus-a-copy\n",
      "  \n"
     ]
    }
   ],
   "source": [
    "for i in range(0,len(news_20200801)):\n",
    "    news_20200801['내용'][i] = news_20200801['내용'][i].replace(',','').replace('\\n','').replace('.','').replace('\"','').replace('!','').replace('(',' ').replace(')','').replace('?','').casefold()\n",
    "    #print(news_20200801['내용'][i])"
   ]
  },
  {
   "cell_type": "code",
   "execution_count": 60,
   "metadata": {},
   "outputs": [],
   "source": [
    "#word_tokenize : space 단위와 구두점(punctuation)을 기준으로 토큰화(Tokenize)\n",
    "from nltk.tokenize import word_tokenize\n",
    "\n",
    "word_20200801 =[]\n",
    "for i in range(len(news_20200801)):\n",
    "    word_20200801 += (word_20200801, word_tokenize(news_20200801['내용'][i]))\n",
    "    #print(word_tokenize(news_190801['내용'][i]))\n",
    "\n",
    "#. 기준으로 문장쪼개기\n",
    "sentence_20200801 = []\n",
    "for i in range(len(news_20200801)):\n",
    "    sentence_20200801 += (sentence_20200801, news_20200801['내용'][i].split(\".\"))\n",
    "#print(news_190801['내용'][i].split(\".\"))"
   ]
  },
  {
   "cell_type": "code",
   "execution_count": 62,
   "metadata": {},
   "outputs": [],
   "source": [
    "from konlpy.tag import Okt\n",
    "okt = Okt()\n",
    "\n",
    "okt.morphs  # 형태소 분석\n",
    "okt.nouns  # 명사 분석\n",
    "okt.phrases  # 구(Phrase) 분석\n",
    "okt.pos  # 형태소 분석 태깅\n",
    "\n",
    "okt_word_20200801 = []\n",
    "for i in range(len(news_20200801)):\n",
    "    #print(okt.morphs(news_190801['내용'][i]))\n",
    "    okt_word_20200801 +=  okt.morphs(news_20200801['내용'][i])"
   ]
  },
  {
   "cell_type": "code",
   "execution_count": 63,
   "metadata": {},
   "outputs": [
    {
     "data": {
      "text/plain": [
       "['모츠',\n",
       " 'motz',\n",
       " '비대',\n",
       " '면',\n",
       " '라이브',\n",
       " '이벤트',\n",
       " '솔루션',\n",
       " '출시',\n",
       " '지금',\n",
       " '까지와',\n",
       " '는',\n",
       " '전혀',\n",
       " '다른',\n",
       " '언택트',\n",
       " '시대',\n",
       " '가',\n",
       " '다가오면서',\n",
       " '마케팅',\n",
       " '업계',\n",
       " '에도']"
      ]
     },
     "execution_count": 63,
     "metadata": {},
     "output_type": "execute_result"
    }
   ],
   "source": [
    "from konlpy.utils import pprint\n",
    "\n",
    "#pprint(okt_word)\n",
    "okt_word_20200801[:20]\n",
    "#print(okt.pos(news_190801['내용'], norm=True, stem=True)) # norm=True 이면, 토큰 노멀라이즈, stem=True 이면, 토큰 스테밍"
   ]
  },
  {
   "cell_type": "code",
   "execution_count": 9,
   "metadata": {},
   "outputs": [
    {
     "name": "stdout",
     "output_type": "stream",
     "text": [
      "675\n",
      "775\n",
      "664\n"
     ]
    },
    {
     "data": {
      "text/plain": [
       "['쾅쾅',\n",
       " '저',\n",
       " '하지마',\n",
       " '칠',\n",
       " '반드시',\n",
       " '하기 때문에',\n",
       " '과',\n",
       " '언젠가',\n",
       " '어찌',\n",
       " '한적이있다',\n",
       " '바꿔 말하면',\n",
       " '저쪽',\n",
       " '거의',\n",
       " '한 까닭에',\n",
       " '그렇게 함으로써',\n",
       " '다음',\n",
       " '하도다',\n",
       " '오르다',\n",
       " '그러나',\n",
       " '이상']"
      ]
     },
     "execution_count": 9,
     "metadata": {},
     "output_type": "execute_result"
    }
   ],
   "source": [
    "stop_words = []\n",
    "with open('./data_files/stopwords_list1.txt', 'r') as file1, \\\n",
    "open('./data_files/stopwords_list2.txt', 'r') as file2:\n",
    "    for text1 in file1:\n",
    "        stop_words.append(text1.strip('\\n'))\n",
    "    print(len(stop_words))\n",
    "    for text2_1 in file2:\n",
    "        text2 = text2_1.split('\\t')\n",
    "        stop_words.append(text2[0].strip('\\n'))\n",
    "    print(len(stop_words))\n",
    "\n",
    "\n",
    "stopwords_set = set(stop_words)\n",
    "stop_words = list(stopwords_set)\n",
    "\n",
    "#중복된 stopwords 제거됨\n",
    "print(len(stop_words))\n",
    "stop_words[:20]"
   ]
  },
  {
   "cell_type": "code",
   "execution_count": 64,
   "metadata": {
    "scrolled": true
   },
   "outputs": [
    {
     "data": {
      "text/plain": [
       "['모츠',\n",
       " 'motz',\n",
       " '비대',\n",
       " '면',\n",
       " '라이브',\n",
       " '이벤트',\n",
       " '솔루션',\n",
       " '출시',\n",
       " '까지와',\n",
       " '는',\n",
       " '전혀',\n",
       " '언택트',\n",
       " '시대',\n",
       " '다가오면서',\n",
       " '마케팅',\n",
       " '업계',\n",
       " '에도',\n",
       " '변화',\n",
       " '바람',\n",
       " '불어오고']"
      ]
     },
     "execution_count": 64,
     "metadata": {},
     "output_type": "execute_result"
    }
   ],
   "source": [
    "#불용어 제거하기\n",
    "from nltk.corpus import stopwords \n",
    "from nltk.tokenize import word_tokenize \n",
    "\n",
    "\"\"\"\n",
    "#pos태그 사용할 때\n",
    "word_result_20200801 = []\n",
    "for w, t in okt_word_20200801:\n",
    "    if w not in stop_words:\n",
    "        word_result_20200801.append(w)\n",
    "# 위의 4줄은 아래의 한 줄로 대체 가능\n",
    "# result = [word for word in word_tokens if not word in stop_words]\n",
    "\"\"\"\n",
    "#morphs 사용할 때\n",
    "word_result_20200801 = []\n",
    "for w in okt_word_20200801:\n",
    "    if w not in stop_words:\n",
    "        word_result_20200801.append(w)\n",
    "\n",
    "#print(word_tokens) \n",
    "#print(word_result_20200801)\n",
    "word_result_20200801[:20]"
   ]
  },
  {
   "cell_type": "code",
   "execution_count": 65,
   "metadata": {},
   "outputs": [
    {
     "name": "stdout",
     "output_type": "stream",
     "text": [
      "----불용어 제거 전----\n",
      "232768\n",
      "----불용어 제거 후----\n",
      "182559\n"
     ]
    }
   ],
   "source": [
    "print(\"----불용어 제거 전----\")\n",
    "print(len(okt_word_20200801))\n",
    "print(\"----불용어 제거 후----\")\n",
    "print(len(word_result_20200801))"
   ]
  },
  {
   "cell_type": "code",
   "execution_count": 17,
   "metadata": {},
   "outputs": [],
   "source": [
    "from konlpy.tag import Twitter\n",
    "\n",
    "twitter = Twitter()\n",
    "\n",
    "twt_word = []\n",
    "for i in range(len(news_190801)):\n",
    "    #print(okt.morphs(news_190801['내용'][i]))\n",
    "    twt_word +=  twitter.pos(news_190801['내용'][i])"
   ]
  },
  {
   "cell_type": "code",
   "execution_count": 19,
   "metadata": {},
   "outputs": [
    {
     "data": {
      "text/plain": [
       "[('\"', 'Punctuation'),\n",
       " ('2120년', 'Number'),\n",
       " ('엔', 'Foreign'),\n",
       " ('청년', 'Noun'),\n",
       " ('세대', 'Noun'),\n",
       " ('가', 'Josa'),\n",
       " ('전체', 'Noun'),\n",
       " ('인구', 'Noun'),\n",
       " ('에서', 'Josa'),\n",
       " ('차지', 'Noun'),\n",
       " ('하는', 'Verb'),\n",
       " ('비율', 'Noun'),\n",
       " ('은', 'Josa'),\n",
       " ('지금', 'Noun'),\n",
       " ('보다', 'Josa'),\n",
       " ('적겠지만', 'Verb'),\n",
       " (',', 'Punctuation'),\n",
       " ('누구', 'Noun'),\n",
       " ('나', 'Josa'),\n",
       " ('자아', 'Noun'),\n",
       " ('실현', 'Noun'),\n",
       " ('이', 'Josa'),\n",
       " ('충분히', 'Adjective'),\n",
       " ('가능한', 'Adjective'),\n",
       " ('경제', 'Noun'),\n",
       " ('적', 'Suffix'),\n",
       " ('환경', 'Noun'),\n",
       " ('속', 'Noun'),\n",
       " ('에', 'Josa'),\n",
       " ('살', 'Noun')]"
      ]
     },
     "execution_count": 19,
     "metadata": {},
     "output_type": "execute_result"
    }
   ],
   "source": [
    "twt_word[:20]"
   ]
  },
  {
   "cell_type": "code",
   "execution_count": 76,
   "metadata": {},
   "outputs": [
    {
     "name": "stdout",
     "output_type": "stream",
     "text": [
      "182559\n",
      "21127\n"
     ]
    }
   ],
   "source": [
    "#vocabulary 만들기\n",
    "print(len(word_result_20200801))\n",
    "set_20200801 = set(word_result_20200801)\n",
    "voca_20200801 = list(set_20200801)\n",
    "print(len(voca_20200801))"
   ]
  },
  {
   "cell_type": "code",
   "execution_count": 77,
   "metadata": {},
   "outputs": [
    {
     "name": "stdout",
     "output_type": "stream",
     "text": [
      "  (0, 8323)\t1\n",
      "  (1, 17398)\t1\n",
      "  (2, 1002)\t1\n",
      "  (3, 11073)\t1\n",
      "  (5, 15977)\t1\n",
      "  (6, 12288)\t1\n",
      "  (7, 15842)\t1\n",
      "  (8, 418)\t1\n",
      "  (9, 9929)\t1\n",
      "  (10, 4716)\t1\n",
      "  (11, 10225)\t1\n",
      "  (12, 5630)\t1\n",
      "  (13, 11406)\t1\n",
      "  (14, 8822)\t1\n",
      "  (15, 5163)\t1\n",
      "  (16, 11236)\t1\n",
      "  (17, 5598)\t1\n",
      "  (18, 6493)\t1\n",
      "  (19, 2919)\t1\n",
      "  (20, 11477)\t1\n",
      "  (21, 12333)\t1\n",
      "  (22, 19058)\t1\n",
      "  (23, 3154)\t1\n",
      "  (25, 4387)\t1\n",
      "  (26, 5385)\t1\n",
      "  :\t:\n",
      "  (21101, 4864)\t1\n",
      "  (21102, 14077)\t1\n",
      "  (21103, 3383)\t1\n",
      "  (21105, 15339)\t1\n",
      "  (21106, 10346)\t1\n",
      "  (21107, 2009)\t1\n",
      "  (21108, 18769)\t1\n",
      "  (21109, 12557)\t1\n",
      "  (21110, 9377)\t1\n",
      "  (21111, 5786)\t1\n",
      "  (21112, 6888)\t1\n",
      "  (21113, 11868)\t1\n",
      "  (21114, 10787)\t1\n",
      "  (21115, 12302)\t1\n",
      "  (21116, 3467)\t1\n",
      "  (21117, 12636)\t1\n",
      "  (21118, 10244)\t1\n",
      "  (21119, 5943)\t1\n",
      "  (21120, 3230)\t1\n",
      "  (21121, 17352)\t1\n",
      "  (21122, 3658)\t1\n",
      "  (21123, 7557)\t1\n",
      "  (21124, 9646)\t1\n",
      "  (21125, 10394)\t1\n",
      "  (21126, 8098)\t1\n"
     ]
    }
   ],
   "source": [
    "import numpy as np\n",
    "import pandas as pd\n",
    "from sklearn.feature_extraction.text import CountVectorizer\n",
    "\n",
    "#뭐하는건진 모르겠는데 구글에서 찾음\n",
    "cv = CountVectorizer()\n",
    "tdm = cv.fit_transform(voca_20200801)\n",
    "print(tdm)"
   ]
  },
  {
   "cell_type": "code",
   "execution_count": null,
   "metadata": {},
   "outputs": [],
   "source": []
  }
 ],
 "metadata": {
  "kernelspec": {
   "display_name": "Python 3",
   "language": "python",
   "name": "python3"
  },
  "language_info": {
   "codemirror_mode": {
    "name": "ipython",
    "version": 3
   },
   "file_extension": ".py",
   "mimetype": "text/x-python",
   "name": "python",
   "nbconvert_exporter": "python",
   "pygments_lexer": "ipython3",
   "version": "3.7.2"
  }
 },
 "nbformat": 4,
 "nbformat_minor": 4
}
