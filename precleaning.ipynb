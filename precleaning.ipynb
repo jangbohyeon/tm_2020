{
 "cells": [
  {
   "cell_type": "code",
   "execution_count": null,
   "metadata": {},
   "outputs": [],
   "source": [
    "import pandas as pd\n",
    "import os\n",
    "import sys\n",
    "\n",
    "#crawling data = doc\n",
    "cfile_20200801 = pd.read_excel('../data_files/crawling/News_20200801-20200801.xlsx')\n",
    "cfile_20200801 = pd.DataFrame(cfile_20200801)"
   ]
  },
  {
   "cell_type": "code",
   "execution_count": null,
   "metadata": {},
   "outputs": [],
   "source": [
    "cnews_20200801 = cfile_20200801\n",
    "cnews_20200801.columns = ['num', '내용']\n",
    "# '제목'열에서 na가 있으면 해당 행 삭제\n",
    "cnews_20200801 = cnews_20200801.dropna(subset=['내용'])\n",
    "# row번호 리셋하기\n",
    "cnews_20200801 = cnews_20200801.reset_index()"
   ]
  },
  {
   "cell_type": "code",
   "execution_count": null,
   "metadata": {},
   "outputs": [],
   "source": [
    "mod = sys.modules[__name__]\n",
    "def excel_reader():\n",
    "    # 해당 경로에 있는 .xlsx 포맷의 파일이름을 리스트로 가져오기\n",
    "    path = \"/home/u1026/tm_2020/data_files/\"\n",
    "    file_list = os.listdir(path)\n",
    "    exfile_list = [i for i in file_list if os.path.splitext(i)[-1]==\".xlsx\"]\n",
    "\n",
    "    # 파일이름을 split 해 해당 파일의 날짜 리스트로 가져오기\n",
    "    fname_list = []\n",
    "    for i in range(len(exfile_list)):\n",
    "        fname_list += [exfile_list[i].split(\"-\")[0].split(\"_\")[1]]\n",
    "\n",
    "    # exfile_list에 있는 엑셀파일 모두 읽어오기\n",
    "    for k in range(len(exfile_list)):\n",
    "        file_locate = path + exfile_list[k]\n",
    "        setattr(mod, 'file_{}'.format(fname_list[k]), pd.read_excel(file_locate))"
   ]
  },
  {
   "cell_type": "code",
   "execution_count": null,
   "metadata": {},
   "outputs": [],
   "source": [
    "#excel '제목' data = vocabulary word\n",
    "excel_reader()"
   ]
  },
  {
   "cell_type": "code",
   "execution_count": null,
   "metadata": {},
   "outputs": [],
   "source": [
    "columns_name = ['일자', '제목', '본문', '인물', '기관', '키워드', '특성추출(가중치순 상위 50개)', 'URL']\n",
    "\n",
    "file_20200801 = file_20200801[columns_name]\n",
    "news_20200801 = file_20200801\n",
    "\n",
    "#'제목'열에서 na가 있으면 해당 행 삭제\n",
    "news_20200801 = news_20200801.dropna(subset=['제목'])\n",
    "\n",
    "#row번호 리셋하기\n",
    "news_20200801 = news_20200801.reset_index()\n",
    "\n",
    "for i in range(0,len(news_20200801)):\n",
    "    news_20200801['제목'][i] = news_20200801['제목'][i].replace(',','').replace('\\n','').replace('.','').replace('\"','').replace('!','').replace('(',' ').replace(')','').replace('?','').casefold()"
   ]
  }
 ],
 "metadata": {
  "kernelspec": {
   "display_name": "Python 3",
   "language": "python",
   "name": "python3"
  },
  "language_info": {
   "codemirror_mode": {
    "name": "ipython",
    "version": 3
   },
   "file_extension": ".py",
   "mimetype": "text/x-python",
   "name": "python",
   "nbconvert_exporter": "python",
   "pygments_lexer": "ipython3",
   "version": "3.7.2"
  }
 },
 "nbformat": 4,
 "nbformat_minor": 4
}
