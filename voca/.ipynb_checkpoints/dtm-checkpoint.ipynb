{
 "cells": [
  {
   "cell_type": "code",
   "execution_count": null,
   "metadata": {},
   "outputs": [],
   "source": [
    "from math import log #idf 계산을 위한 패키지\n",
    "#tf-idf 함수 구현하기\n",
    "N = len(news_20200801)\n",
    "\n",
    "def tf(token, doc):\n",
    "    return doc.count(token)\n",
    "\n",
    "def idf(token):\n",
    "    df = 0\n",
    "    for doc in list(news_20200801['내용']):\n",
    "        df += token in doc\n",
    "    return log(N / (df + 1))\n",
    "\n",
    "def tf_idf(token, doc):\n",
    "    return tf(token, doc) * idf(token)"
   ]
  },
  {
   "cell_type": "code",
   "execution_count": null,
   "metadata": {},
   "outputs": [],
   "source": [
    "#tf : DTM을 데이터 프레임으로 저장하여 출력된 값임. (행-문서, 열-단어)\n",
    "tf_result = []\n",
    "for i in range(N):\n",
    "    tf_result.append([])\n",
    "    doc = news_20200801['내용'][i]\n",
    "    for j in range(len(VOCA_20200801)):\n",
    "        token = VOCA_20200801[j]\n",
    "        tf_result[-1].append(tf(token,doc))\n",
    "\n",
    "    \n",
    "dtm_20200801 = pd.DataFrame(tf_result,columns = VOCA_20200801)\n",
    "dtm_20200801"
   ]
  },
  {
   "cell_type": "code",
   "execution_count": null,
   "metadata": {},
   "outputs": [],
   "source": [
    "#idf 를 구하겠음\n",
    "idf_result = []\n",
    "for j in range(len(VOCA_20200801)):\n",
    "    token = VOCA_20200801[j]\n",
    "    idf_result.append(idf(token))\n",
    "    \n",
    "idf_ = pd.DataFrame(idf_result,index = VOCA_20200801, columns = ['IDF'])\n",
    "idf_"
   ]
  },
  {
   "cell_type": "code",
   "execution_count": null,
   "metadata": {},
   "outputs": [],
   "source": [
    "#패키지를 이용하여 만든 tf-idf\n",
    "from sklearn.feature_extraction.text import TfidfVectorizer\n",
    "\n",
    "tfidf_20200801 = TfidfVectorizer(min_df=2,sublinear_tf=True).fit(news_20200801['내용'])\n",
    "print(tfidf_20200801.transform(news_20200801['내용']).toarray())\n",
    "print(tfidf_20200801.vocabulary_)"
   ]
  }
 ],
 "metadata": {
  "kernelspec": {
   "display_name": "Python 3",
   "language": "python",
   "name": "python3"
  },
  "language_info": {
   "codemirror_mode": {
    "name": "ipython",
    "version": 3
   },
   "file_extension": ".py",
   "mimetype": "text/x-python",
   "name": "python",
   "nbconvert_exporter": "python",
   "pygments_lexer": "ipython3",
   "version": "3.7.2"
  }
 },
 "nbformat": 4,
 "nbformat_minor": 4
}
