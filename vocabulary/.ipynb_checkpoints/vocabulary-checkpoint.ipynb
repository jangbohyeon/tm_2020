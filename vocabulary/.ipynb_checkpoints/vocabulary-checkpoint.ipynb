{
 "cells": [
  {
   "cell_type": "code",
   "execution_count": null,
   "metadata": {},
   "outputs": [],
   "source": [
    "#vocabulary 만들기\n",
    "print(len(word_result_20200801))\n",
    "set_20200801 = set(word_result_20200801)\n",
    "VOCA_20200801 = list(set_20200801)\n",
    "\n",
    "#vocabulary 한글자이면 지우기\n",
    "for i in voca_20200801:\n",
    "    if len(i) == 1:\n",
    "        VOCA_20200801.remove(i)\n",
    "\n",
    "print(len(VOCA_20200801))"
   ]
  },
  {
   "cell_type": "code",
   "execution_count": null,
   "metadata": {},
   "outputs": [],
   "source": [
    "#vocabulary 한글자이면 지우기\n",
    "for i in voca_20200801:\n",
    "    if len(i) == 1:\n",
    "        voca_20200801.remove(i)"
   ]
  },
  {
   "cell_type": "code",
   "execution_count": null,
   "metadata": {},
   "outputs": [],
   "source": [
    "#only 숫자인 텍스트 지우기\n",
    "import re\n",
    "imsi = []\n",
    "for tx in voca_20200801:\n",
    "    hangul = re.compile('[ㄱ-ㅣ가-힣a-zA-Z]+')\n",
    "    imsi.append(hangul.findall(tx))\n",
    "VOCA_20200801 = []\n",
    "for k in range(0, len(voca_20200801)):\n",
    "    if imsi[k] != []:\n",
    "        VOCA_20200801.append(voca_20200801[k])"
   ]
  },
  {
   "cell_type": "code",
   "execution_count": null,
   "metadata": {},
   "outputs": [],
   "source": [
    "# vocabulary 저장\n",
    "import csv\n",
    "with open('./data_files/title_voca_okt.csv', 'w', newline='') as f:\n",
    "    writer = csv.writer(f)\n",
    "    writer.writerow(VOCA_20200801)"
   ]
  }
 ],
 "metadata": {
  "kernelspec": {
   "display_name": "Python 3",
   "language": "python",
   "name": "python3"
  },
  "language_info": {
   "codemirror_mode": {
    "name": "ipython",
    "version": 3
   },
   "file_extension": ".py",
   "mimetype": "text/x-python",
   "name": "python",
   "nbconvert_exporter": "python",
   "pygments_lexer": "ipython3",
   "version": "3.7.2"
  }
 },
 "nbformat": 4,
 "nbformat_minor": 4
}
