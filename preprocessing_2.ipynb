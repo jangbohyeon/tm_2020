{
 "cells": [
  {
   "cell_type": "code",
   "execution_count": 1,
   "metadata": {},
   "outputs": [],
   "source": [
    "import pandas as pd\n",
    "import os\n",
    "import sys\n",
    "\n",
    "mod = sys.modules[__name__]\n",
    "def excel_reader():\n",
    "    # 해당 경로에 있는 .xlsx 포맷의 파일이름을 리스트로 가져오기\n",
    "    path = \"/home/u1026/tm_2020/\"\n",
    "    file_list = os.listdir(path)\n",
    "    exfile_list = [i for i in file_list if os.path.splitext(i)[-1]==\".xlsx\"]\n",
    "\n",
    "    # 파일이름을 split 해 해당 파일의 날짜 리스트로 가져오기\n",
    "    fname_list = []\n",
    "    for i in range(len(exfile_list)):\n",
    "        fname_list += [exfile_list[i].split(\"-\")[0].split(\"_\")[1]]\n",
    "\n",
    "    # exfile_list에 있는 엑셀파일 모두 읽어오기\n",
    "    for k in range(len(exfile_list)):\n",
    "        file_locate = path + exfile_list[k]\n",
    "        setattr(mod, 'file_{}'.format(fname_list[k]), pd.read_excel(file_locate))"
   ]
  },
  {
   "cell_type": "code",
   "execution_count": 2,
   "metadata": {},
   "outputs": [],
   "source": [
    "excel_reader()"
   ]
  },
  {
   "cell_type": "code",
   "execution_count": 3,
   "metadata": {},
   "outputs": [
    {
     "name": "stderr",
     "output_type": "stream",
     "text": [
      "/home/u1026/.local/lib/python3.7/site-packages/ipykernel_launcher.py:21: SettingWithCopyWarning: \n",
      "A value is trying to be set on a copy of a slice from a DataFrame\n",
      "\n",
      "See the caveats in the documentation: https://pandas.pydata.org/pandas-docs/stable/user_guide/indexing.html#returning-a-view-versus-a-copy\n",
      "/home/u1026/.local/lib/python3.7/site-packages/ipykernel_launcher.py:24: SettingWithCopyWarning: \n",
      "A value is trying to be set on a copy of a slice from a DataFrame\n",
      "\n",
      "See the caveats in the documentation: https://pandas.pydata.org/pandas-docs/stable/user_guide/indexing.html#returning-a-view-versus-a-copy\n",
      "/home/u1026/.local/lib/python3.7/site-packages/ipykernel_launcher.py:31: SettingWithCopyWarning: \n",
      "A value is trying to be set on a copy of a slice from a DataFrame\n",
      "\n",
      "See the caveats in the documentation: https://pandas.pydata.org/pandas-docs/stable/user_guide/indexing.html#returning-a-view-versus-a-copy\n",
      "/home/u1026/.local/lib/python3.7/site-packages/ipykernel_launcher.py:36: SettingWithCopyWarning: \n",
      "A value is trying to be set on a copy of a slice from a DataFrame\n",
      "\n",
      "See the caveats in the documentation: https://pandas.pydata.org/pandas-docs/stable/user_guide/indexing.html#returning-a-view-versus-a-copy\n"
     ]
    }
   ],
   "source": [
    "import pandas as pd\n",
    "\n",
    "columns_name = ['일자', '제목', '본문', '인물', '기관', '키워드', '특성추출(가중치순 상위 50개)', 'URL']\n",
    "file_20200801 = file_20200801[columns_name]\n",
    "file_20200802 = file_20200802[columns_name]\n",
    "\n",
    "news_20200801 = file_20200801\n",
    "news_20200802 = file_20200802\n",
    "\n",
    "#'제목'열에서 na가 있으면 해당 행 삭제\n",
    "news_20200801 = news_20200801.dropna(subset=['제목'])\n",
    "news_20200802 = news_20200802.dropna(subset=['제목'])\n",
    "\n",
    "#row번호 리셋하기\n",
    "news_20200801 = news_20200801.reset_index()\n",
    "news_20200802 = news_20200802.reset_index()\n",
    "\n",
    "\n",
    "#제목 마지막에 공백을 넣어 본문과 합칠 때 자연스럽게 합치게 함\n",
    "for i in range(0,len(news_20200801)):\n",
    "    news_20200801['제목'][i] = news_20200801['제목'][i] + ' '\n",
    "    \n",
    "for i in range(0,len(news_20200802)):\n",
    "    news_20200802['제목'][i] = news_20200802['제목'][i] + ' '\n",
    "\n",
    "\n",
    "news_20200801['내용'] = news_20200801.iloc[:, 2:4].sum(1)\n",
    "news_20200802['내용'] = news_20200802.iloc[:, 2:4].sum(1)\n",
    "\n",
    "for i in range(0,len(news_20200801)):\n",
    "    news_20200801['내용'][i] = news_20200801['내용'][i].replace(',','').replace('\\n','').replace('.','').replace('\"','').replace('!','').replace('(',' ').replace(')','').replace('?','').casefold()\n",
    "#숫자 지우기\n",
    "#news_20200801['내용'] = news_20200801['내용'].str.replace('[0-9]', '')\n",
    "\n",
    "for i in range(0,len(news_20200802)):\n",
    "    news_20200802['내용'][i] = news_20200802['내용'][i].replace(',','').replace('\\n','').replace('.','').replace('\"','').replace('!','').replace('(',' ').replace(')','').replace('?','').casefold()\n",
    "#news_20200802['내용'] = news_20200802['내용'].str.replace('[0-9]', '')"
   ]
  },
  {
   "cell_type": "code",
   "execution_count": 4,
   "metadata": {},
   "outputs": [],
   "source": [
    "#word_tokenize : 단어 기준으로 토큰화(Tokenize)\n",
    "from nltk.tokenize import word_tokenize\n",
    "\n",
    "word_20200801 = []\n",
    "for i in range(len(news_20200801)):\n",
    "    word_20200801 += (word_20200801, word_tokenize(news_20200801['내용'][i]))"
   ]
  },
  {
   "cell_type": "code",
   "execution_count": 5,
   "metadata": {},
   "outputs": [
    {
     "name": "stdout",
     "output_type": "stream",
     "text": [
      "5454\n"
     ]
    }
   ],
   "source": [
    "#vocabulary 한글자이면 지우기\n",
    "for i in word_20200801:\n",
    "    if len(i) == 1:\n",
    "        word_20200801.remove(i)\n",
    "\n",
    "print(len(word_20200801))"
   ]
  },
  {
   "cell_type": "code",
   "execution_count": 5,
   "metadata": {},
   "outputs": [],
   "source": [
    "from konlpy.tag import Komoran\n",
    "\n",
    "#메모리 늘려주기\n",
    "komoran = Komoran(max_heap_size=1024 * 6)\n",
    "\n",
    "#pos사용으로 수정함\n",
    "km_word_20200801 = []\n",
    "for i in range(len(news_20200801)):\n",
    "    #print(okt.morphs(news_190801['내용'][i]))\n",
    "    #km_word_20200801 +=  komoran.nouns(news_20200801['내용'][i])\n",
    "    km_word_20200801 +=  komoran.pos(news_20200801['내용'][i])"
   ]
  },
  {
   "cell_type": "code",
   "execution_count": null,
   "metadata": {},
   "outputs": [],
   "source": [
    "len(km_word_20200801)"
   ]
  },
  {
   "cell_type": "code",
   "execution_count": 21,
   "metadata": {},
   "outputs": [
    {
     "data": {
      "text/plain": [
       "dict_keys(['EC', 'EF', 'EP', 'ETM', 'ETN', 'IC', 'JC', 'JKB', 'JKC', 'JKG', 'JKO', 'JKQ', 'JKS', 'JKV', 'JX', 'MAG', 'MAJ', 'MM', 'NA', 'NF', 'NNB', 'NNG', 'NNP', 'NP', 'NR', 'NV', 'SE', 'SF', 'SH', 'SL', 'SN', 'SO', 'SP', 'SS', 'SW', 'VA', 'VCN', 'VCP', 'VV', 'VX', 'XPN', 'XR', 'XSA', 'XSN', 'XSV'])"
      ]
     },
     "execution_count": 21,
     "metadata": {},
     "output_type": "execute_result"
    }
   ],
   "source": [
    "komoran.tagset.keys()"
   ]
  },
  {
   "cell_type": "code",
   "execution_count": 20,
   "metadata": {},
   "outputs": [
    {
     "data": {
      "text/plain": [
       "dict_values(['연결 어미', '종결 어미', '선어말어미', '관형형 전성 어미', '명사형 전성 어미', '감탄사', '접속 조사', '부사격 조사', '보격 조사', '관형격 조사', '목적격 조사', '인용격 조사', '주격 조사', '호격 조사', '보조사', '일반 부사', '접속 부사', '관형사', '분석불능범주', '명사추정범주', '의존 명사', '일반 명사', '고유 명사', '대명사', '수사', '용언추정범주', '줄임표', '마침표, 물음표, 느낌표', '한자', '외국어', '숫자', '붙임표(물결,숨김,빠짐)', '쉼표,가운뎃점,콜론,빗금', '따옴표,괄호표,줄표', '기타기호 (논리수학기호,화폐기호)', '형용사', '부정 지정사', '긍정 지정사', '동사', '보조 용언', '체언 접두사', '어근', '형용사 파생 접미사', '명사파생 접미사', '동사 파생 접미사'])"
      ]
     },
     "execution_count": 20,
     "metadata": {},
     "output_type": "execute_result"
    }
   ],
   "source": [
    "komoran.tagset.values()"
   ]
  },
  {
   "cell_type": "code",
   "execution_count": 24,
   "metadata": {},
   "outputs": [],
   "source": [
    "#j로 시작하는 tag들은 모두 조사 - i는 인덱스번호, k는 리스트의 요소\n",
    "for i, k in enumerate(km_word_20200801):\n",
    "    #튜플인 k의 1번째 값(예-'JX')에 'J'가 첫번째 글자로 들어가 있으면 조사이므로 지운다.\n",
    "    if k[1].find('J') == 0:\n",
    "        km_word_20200801.pop(i)"
   ]
  },
  {
   "cell_type": "code",
   "execution_count": 25,
   "metadata": {},
   "outputs": [
    {
     "data": {
      "text/plain": [
       "[('모츠', 'NA'),\n",
       " ('motz', 'SL'),\n",
       " ('비대', 'NNP'),\n",
       " ('이', 'VCP'),\n",
       " ('면', 'EC'),\n",
       " ('라이브', 'NNP'),\n",
       " ('이벤트', 'NNP'),\n",
       " ('솔루션', 'NNP'),\n",
       " ('출시', 'NNG'),\n",
       " ('지금', 'NNG'),\n",
       " ('전혀', 'MAG'),\n",
       " ('다른', 'MM'),\n",
       " ('언', 'NNG'),\n",
       " ('택', 'NNG'),\n",
       " ('트', 'VV')]"
      ]
     },
     "execution_count": 25,
     "metadata": {},
     "output_type": "execute_result"
    }
   ],
   "source": [
    "km_word_20200801[:15]"
   ]
  },
  {
   "cell_type": "code",
   "execution_count": 26,
   "metadata": {},
   "outputs": [
    {
     "name": "stdout",
     "output_type": "stream",
     "text": [
      "675\n",
      "775\n",
      "----불용어 제거 전----\n",
      "236210\n",
      "----불용어 제거 후----\n",
      "189554\n"
     ]
    }
   ],
   "source": [
    "stop_words = []\n",
    "with open('./data_files/stopwords_list1.txt', 'r') as file1, \\\n",
    "open('./data_files/stopwords_list2.txt', 'r') as file2:\n",
    "    for text1 in file1:\n",
    "        stop_words.append(text1.strip('\\n'))\n",
    "    print(len(stop_words))\n",
    "    for text2_1 in file2:\n",
    "        text2 = text2_1.split('\\t')\n",
    "        stop_words.append(text2[0].strip('\\n'))\n",
    "    print(len(stop_words))\n",
    "\n",
    "#불용어리스트 생성\n",
    "stopwords_set = set(stop_words)\n",
    "stop_words = list(stopwords_set)\n",
    "\n",
    "\n",
    "#불용어 제거하기\n",
    "from nltk.corpus import stopwords \n",
    "from nltk.tokenize import word_tokenize\n",
    "\n",
    "#komoran 사용할 때 - pos사용으로 수정함\n",
    "word_result_20200801 = []\n",
    "for w, pos in km_word_20200801:\n",
    "    if w not in stop_words:\n",
    "        word_result_20200801.append(w)\n",
    "\n",
    "print(\"----불용어 제거 전----\")\n",
    "print(len(km_word_20200801))\n",
    "print(\"----불용어 제거 후----\")\n",
    "print(len(word_result_20200801))"
   ]
  },
  {
   "cell_type": "code",
   "execution_count": 27,
   "metadata": {},
   "outputs": [
    {
     "name": "stdout",
     "output_type": "stream",
     "text": [
      "189554\n",
      "16402\n"
     ]
    },
    {
     "data": {
      "text/plain": [
       "'\\n#vocabulary 한글자이면 지우기\\nfor i in voca_20200801:\\n    if len(i) == 1:\\n        voca_20200801.remove(i)\\n\\nprint(len(voca_20200801))\\n'"
      ]
     },
     "execution_count": 27,
     "metadata": {},
     "output_type": "execute_result"
    }
   ],
   "source": [
    "#vocabulary 만들기\n",
    "print(len(word_result_20200801))\n",
    "set_20200801 = set(word_result_20200801)\n",
    "voca_20200801 = list(set_20200801)\n",
    "print(len(voca_20200801))\n",
    "\n",
    "\"\"\"\n",
    "#vocabulary 한글자이면 지우기\n",
    "for i in voca_20200801:\n",
    "    if len(i) == 1:\n",
    "        voca_20200801.remove(i)\n",
    "\n",
    "print(len(voca_20200801))\n",
    "\"\"\""
   ]
  },
  {
   "cell_type": "code",
   "execution_count": 28,
   "metadata": {},
   "outputs": [
    {
     "name": "stdout",
     "output_type": "stream",
     "text": [
      "15547\n"
     ]
    }
   ],
   "source": [
    "#vocabulary 한글자이면 지우기\n",
    "for i in voca_20200801:\n",
    "    if len(i) == 1:\n",
    "        voca_20200801.remove(i)\n",
    "\n",
    "print(len(voca_20200801))"
   ]
  },
  {
   "cell_type": "code",
   "execution_count": 10,
   "metadata": {},
   "outputs": [
    {
     "data": {
      "text/plain": [
       "['존중', '히스패닉', '르마', '구급차', '주리']"
      ]
     },
     "execution_count": 10,
     "metadata": {},
     "output_type": "execute_result"
    }
   ],
   "source": [
    "voca_20200801[:5]"
   ]
  },
  {
   "cell_type": "code",
   "execution_count": 29,
   "metadata": {},
   "outputs": [
    {
     "name": "stdout",
     "output_type": "stream",
     "text": [
      "14852\n"
     ]
    }
   ],
   "source": [
    "#only 숫자인 텍스트 지우기\n",
    "import re\n",
    "imsi = []\n",
    "for tx in voca_20200801:\n",
    "    hangul = re.compile('[ㄱ-ㅣ가-힣a-zA-Z]+')\n",
    "    imsi.append(hangul.findall(tx))\n",
    "VOCA_20200801 = []\n",
    "for k in range(0, len(voca_20200801)):\n",
    "    if imsi[k] != []:\n",
    "        VOCA_20200801.append(voca_20200801[k])\n",
    "\n",
    "print(len(VOCA_20200801))"
   ]
  },
  {
   "cell_type": "code",
   "execution_count": 35,
   "metadata": {},
   "outputs": [
    {
     "data": {
      "text/plain": [
       "4"
      ]
     },
     "execution_count": 35,
     "metadata": {},
     "output_type": "execute_result"
    }
   ],
   "source": [
    "len(VOCA_20200801[1])"
   ]
  },
  {
   "cell_type": "code",
   "execution_count": 19,
   "metadata": {},
   "outputs": [
    {
     "name": "stdout",
     "output_type": "stream",
     "text": [
      "  (0, 2059)\t0.7071067811865475\n",
      "  (0, 7188)\t0.7071067811865475\n",
      "  (1, 6601)\t1.0\n",
      "  (2, 9811)\t1.0\n",
      "  (3, 4029)\t1.0\n",
      "  (4, 4240)\t1.0\n",
      "  (5, 3724)\t1.0\n",
      "  (6, 83)\t0.6712982288428279\n",
      "  (6, 41)\t0.7411873501028484\n",
      "  (7, 1776)\t1.0\n",
      "  (8, 8295)\t1.0\n",
      "  (9, 11276)\t1.0\n"
     ]
    }
   ],
   "source": [
    "from sklearn.feature_extraction.text import TfidfVectorizer\n",
    "\n",
    "tfidf = TfidfVectorizer()\n",
    "tfidf_20200801 = tfidf.fit_transform(VOCA_20200801)\n",
    "print(tfidf_20200801[:10])"
   ]
  },
  {
   "cell_type": "code",
   "execution_count": 12,
   "metadata": {},
   "outputs": [],
   "source": [
    "#DTM\n",
    "import numpy as np\n",
    "import pandas as pd\n",
    "from sklearn.feature_extraction.text import CountVectorizer\n",
    "\n",
    "cv = CountVectorizer()\n",
    "dtm_ar_20200801 = cv.fit_transform(VOCA_20200801).toarray()\n",
    "feature_names = cv.get_feature_names()\n",
    "#dtm을 데이터프레임 형태로\n",
    "dtm_20200801 = pd.DataFrame(dtm_ar_20200801, columns=feature_names)"
   ]
  },
  {
   "cell_type": "code",
   "execution_count": 13,
   "metadata": {},
   "outputs": [
    {
     "data": {
      "text/plain": [
       "(12216, 12072)"
      ]
     },
     "execution_count": 13,
     "metadata": {},
     "output_type": "execute_result"
    }
   ],
   "source": [
    "dtm_20200801.shape"
   ]
  },
  {
   "cell_type": "code",
   "execution_count": 14,
   "metadata": {},
   "outputs": [],
   "source": [
    "import math\n",
    "N = len(news_20200801)\n",
    "\n",
    "def tf(token, doc):\n",
    "    return doc.count(token)\n",
    "\n",
    "def idf(token):\n",
    "    df = 0\n",
    "    for doc in list(news_20200801['내용']):\n",
    "        df += token in doc\n",
    "    return math.log(N / (df + 1))\n",
    "\n",
    "def tf_idf(token, doc):\n",
    "    return tf(token, doc) * idf(token)"
   ]
  },
  {
   "cell_type": "code",
   "execution_count": 30,
   "metadata": {},
   "outputs": [],
   "source": [
    "#DTM 만들기\n",
    "tf_result = []\n",
    "for i in range(N):\n",
    "    tf_result.append([])\n",
    "    doc = news_20200801['내용'][i]\n",
    "    for j in range(len(VOCA_20200801)):\n",
    "        token = VOCA_20200801[j]        \n",
    "        tf_result[-1].append(tf(token, doc))\n",
    "\n",
    "dtm_20200801 = pd.DataFrame(tf_result, columns = VOCA_20200801)"
   ]
  },
  {
   "cell_type": "code",
   "execution_count": 31,
   "metadata": {},
   "outputs": [
    {
     "data": {
      "text/html": [
       "<div>\n",
       "<style scoped>\n",
       "    .dataframe tbody tr th:only-of-type {\n",
       "        vertical-align: middle;\n",
       "    }\n",
       "\n",
       "    .dataframe tbody tr th {\n",
       "        vertical-align: top;\n",
       "    }\n",
       "\n",
       "    .dataframe thead th {\n",
       "        text-align: right;\n",
       "    }\n",
       "</style>\n",
       "<table border=\"1\" class=\"dataframe\">\n",
       "  <thead>\n",
       "    <tr style=\"text-align: right;\">\n",
       "      <th></th>\n",
       "      <th>존중</th>\n",
       "      <th>히스패닉</th>\n",
       "      <th>르마</th>\n",
       "      <th>구급차</th>\n",
       "      <th>주리</th>\n",
       "      <th>장애인</th>\n",
       "      <th>플라이 아웃</th>\n",
       "      <th>증원</th>\n",
       "      <th>도록</th>\n",
       "      <th>이따</th>\n",
       "      <th>...</th>\n",
       "      <th>막국수</th>\n",
       "      <th>이상배</th>\n",
       "      <th>최희</th>\n",
       "      <th>전철</th>\n",
       "      <th>입법예고</th>\n",
       "      <th>그라운드</th>\n",
       "      <th>방송선</th>\n",
       "      <th>작년</th>\n",
       "      <th>신현수</th>\n",
       "      <th>화성</th>\n",
       "    </tr>\n",
       "  </thead>\n",
       "  <tbody>\n",
       "    <tr>\n",
       "      <th>0</th>\n",
       "      <td>0</td>\n",
       "      <td>0</td>\n",
       "      <td>0</td>\n",
       "      <td>0</td>\n",
       "      <td>0</td>\n",
       "      <td>0</td>\n",
       "      <td>0</td>\n",
       "      <td>0</td>\n",
       "      <td>0</td>\n",
       "      <td>0</td>\n",
       "      <td>...</td>\n",
       "      <td>0</td>\n",
       "      <td>0</td>\n",
       "      <td>0</td>\n",
       "      <td>0</td>\n",
       "      <td>0</td>\n",
       "      <td>0</td>\n",
       "      <td>0</td>\n",
       "      <td>0</td>\n",
       "      <td>0</td>\n",
       "      <td>0</td>\n",
       "    </tr>\n",
       "    <tr>\n",
       "      <th>1</th>\n",
       "      <td>0</td>\n",
       "      <td>0</td>\n",
       "      <td>0</td>\n",
       "      <td>0</td>\n",
       "      <td>0</td>\n",
       "      <td>0</td>\n",
       "      <td>0</td>\n",
       "      <td>0</td>\n",
       "      <td>0</td>\n",
       "      <td>0</td>\n",
       "      <td>...</td>\n",
       "      <td>0</td>\n",
       "      <td>0</td>\n",
       "      <td>0</td>\n",
       "      <td>0</td>\n",
       "      <td>0</td>\n",
       "      <td>0</td>\n",
       "      <td>0</td>\n",
       "      <td>0</td>\n",
       "      <td>0</td>\n",
       "      <td>0</td>\n",
       "    </tr>\n",
       "    <tr>\n",
       "      <th>2</th>\n",
       "      <td>0</td>\n",
       "      <td>0</td>\n",
       "      <td>0</td>\n",
       "      <td>0</td>\n",
       "      <td>0</td>\n",
       "      <td>0</td>\n",
       "      <td>0</td>\n",
       "      <td>0</td>\n",
       "      <td>0</td>\n",
       "      <td>0</td>\n",
       "      <td>...</td>\n",
       "      <td>0</td>\n",
       "      <td>0</td>\n",
       "      <td>0</td>\n",
       "      <td>0</td>\n",
       "      <td>0</td>\n",
       "      <td>0</td>\n",
       "      <td>0</td>\n",
       "      <td>0</td>\n",
       "      <td>0</td>\n",
       "      <td>0</td>\n",
       "    </tr>\n",
       "    <tr>\n",
       "      <th>3</th>\n",
       "      <td>0</td>\n",
       "      <td>0</td>\n",
       "      <td>0</td>\n",
       "      <td>0</td>\n",
       "      <td>0</td>\n",
       "      <td>0</td>\n",
       "      <td>0</td>\n",
       "      <td>0</td>\n",
       "      <td>0</td>\n",
       "      <td>0</td>\n",
       "      <td>...</td>\n",
       "      <td>0</td>\n",
       "      <td>0</td>\n",
       "      <td>0</td>\n",
       "      <td>0</td>\n",
       "      <td>0</td>\n",
       "      <td>0</td>\n",
       "      <td>0</td>\n",
       "      <td>0</td>\n",
       "      <td>0</td>\n",
       "      <td>0</td>\n",
       "    </tr>\n",
       "    <tr>\n",
       "      <th>4</th>\n",
       "      <td>0</td>\n",
       "      <td>0</td>\n",
       "      <td>0</td>\n",
       "      <td>0</td>\n",
       "      <td>0</td>\n",
       "      <td>0</td>\n",
       "      <td>0</td>\n",
       "      <td>0</td>\n",
       "      <td>0</td>\n",
       "      <td>0</td>\n",
       "      <td>...</td>\n",
       "      <td>0</td>\n",
       "      <td>0</td>\n",
       "      <td>0</td>\n",
       "      <td>0</td>\n",
       "      <td>0</td>\n",
       "      <td>0</td>\n",
       "      <td>0</td>\n",
       "      <td>0</td>\n",
       "      <td>0</td>\n",
       "      <td>0</td>\n",
       "    </tr>\n",
       "  </tbody>\n",
       "</table>\n",
       "<p>5 rows × 14852 columns</p>\n",
       "</div>"
      ],
      "text/plain": [
       "   존중  히스패닉  르마  구급차  주리  장애인  플라이 아웃  증원  도록  이따  ...  막국수  이상배  최희  전철  \\\n",
       "0   0     0   0    0   0    0       0   0   0   0  ...    0    0   0   0   \n",
       "1   0     0   0    0   0    0       0   0   0   0  ...    0    0   0   0   \n",
       "2   0     0   0    0   0    0       0   0   0   0  ...    0    0   0   0   \n",
       "3   0     0   0    0   0    0       0   0   0   0  ...    0    0   0   0   \n",
       "4   0     0   0    0   0    0       0   0   0   0  ...    0    0   0   0   \n",
       "\n",
       "   입법예고  그라운드  방송선  작년  신현수  화성  \n",
       "0     0     0    0   0    0   0  \n",
       "1     0     0    0   0    0   0  \n",
       "2     0     0    0   0    0   0  \n",
       "3     0     0    0   0    0   0  \n",
       "4     0     0    0   0    0   0  \n",
       "\n",
       "[5 rows x 14852 columns]"
      ]
     },
     "execution_count": 31,
     "metadata": {},
     "output_type": "execute_result"
    }
   ],
   "source": [
    "dtm_20200801.head()"
   ]
  },
  {
   "cell_type": "code",
   "execution_count": 32,
   "metadata": {},
   "outputs": [
    {
     "data": {
      "text/plain": [
       "(2727, 14852)"
      ]
     },
     "execution_count": 32,
     "metadata": {},
     "output_type": "execute_result"
    }
   ],
   "source": [
    "dtm_20200801.shape"
   ]
  },
  {
   "cell_type": "code",
   "execution_count": 33,
   "metadata": {},
   "outputs": [
    {
     "data": {
      "text/plain": [
       "서       4705\n",
       "니다      1465\n",
       "코로      1249\n",
       "로나      1247\n",
       "코로나     1245\n",
       "        ... \n",
       "휘말리        0\n",
       "종규         0\n",
       "끌리         0\n",
       "가로막히       0\n",
       "어울리        0\n",
       "Length: 14852, dtype: int64"
      ]
     },
     "execution_count": 33,
     "metadata": {},
     "output_type": "execute_result"
    }
   ],
   "source": [
    "voca_appear_20200801 = dtm_20200801.sum()\n",
    "voca_appear_20200801.sort_values(ascending = False)"
   ]
  },
  {
   "cell_type": "code",
   "execution_count": null,
   "metadata": {},
   "outputs": [],
   "source": []
  }
 ],
 "metadata": {
  "kernelspec": {
   "display_name": "Python 3",
   "language": "python",
   "name": "python3"
  },
  "language_info": {
   "codemirror_mode": {
    "name": "ipython",
    "version": 3
   },
   "file_extension": ".py",
   "mimetype": "text/x-python",
   "name": "python",
   "nbconvert_exporter": "python",
   "pygments_lexer": "ipython3",
   "version": "3.7.2"
  }
 },
 "nbformat": 4,
 "nbformat_minor": 4
}
