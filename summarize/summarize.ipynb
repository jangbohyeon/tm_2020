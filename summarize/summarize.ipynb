{
 "cells": [
  {
   "cell_type": "code",
   "execution_count": null,
   "metadata": {},
   "outputs": [],
   "source": [
    "import pandas as pd\n",
    "import os\n",
    "import sys\n",
    "\n",
    "cfile_20200801 = pd.read_excel('../data_files/Crawling_20200801-20200801.xlsx')\n",
    "cfile_20200801 = pd.DataFrame(cfile_20200801)\n",
    "\n",
    "cnews_20200801 = cfile_20200801\n",
    "cnews_20200801.columns = ['num', '내용']\n",
    "# '제목'열에서 na가 있으면 해당 행 삭제\n",
    "cnews_20200801 = cnews_20200801.dropna(subset=['내용'])\n",
    "# row번호 리셋하기\n",
    "cnews_20200801 = cnews_20200801.reset_index()"
   ]
  },
  {
   "cell_type": "code",
   "execution_count": null,
   "metadata": {},
   "outputs": [],
   "source": [
    "import re\n",
    "\n",
    "def cleaning_tx(m_news):\n",
    "    #이메일 지우기\n",
    "    m_news = re.sub('([a-zA-Z0-9_.+-]+@[a-zA-Z0-9-]+\\.[a-zA-Z0-9-.]+)', '', m_news)\n",
    "    #.replace(',','').replace('.','').\
    replace('\"','').replace('!','').replace('?','')\n",
    "    m_news = m_news.replace('\\n',' ').replace('\\t',' ').replace('(','').\
    replace(')','').replace('[','').replace(']','').replace('.','. ').casefold()\n",
    "    #\\xa0는 줄바꿈을 의미\n",
    "    m_news = re.sub('[-=+#/\\:^$@*\\\"※~&ㆍ』\\\\‘|\\(\\)\\[\\]\\<\\>`\\'…》]'\
    , '', m_news)\n",
    "    complete_cleaning = re.sub('[▷▶◀◁◆■□▲◆●◎○△◇]', '', m_news)\n",
    "    \n",
    "    return complete_cleaning"
   ]
  },
  {
   "cell_type": "code",
   "execution_count": null,
   "metadata": {},
   "outputs": [],
   "source": [
    "from collections import Counter\n",
    "from sklearn.feature_extraction.text import CountVectorizer\n",
    "from sklearn.metrics.pairwise import cosine_similarity\n",
    "\n",
    "def get_cosine_sim(str): \n",
    "    vectors = [t for t in get_vectors(str)]\n",
    "    return cosine_similarity(vectors)\n",
    "    \n",
    "def get_vectors(str):\n",
    "    text = [t for t in str]\n",
    "    vectorizer = CountVectorizer(text)\n",
    "    vectorizer.fit(text)\n",
    "    return vectorizer.transform(text).toarray()"
   ]
  },
  {
   "cell_type": "code",
   "execution_count": null,
   "metadata": {},
   "outputs": [],
   "source": [
    "cos_sim = get_cosine_sim(cnews_20200801['내용'])"
   ]
  },
  {
   "cell_type": "code",
   "execution_count": null,
   "metadata": {},
   "outputs": [],
   "source": [
    "clean_news = cnews_20200801['내용']\n",
    "\n",
    "news_cos_sim = []\n",
    "for num in range(0, len(cos_sim)):\n",
    "    for comp in range(0, num+1):\n",
    "        if num != comp and cos_sim[num][comp] > 0.7:\n",
    "            #num 행, comp 열\n",
    "            news_cos_sim += [comp]"
   ]
  },
  {
   "cell_type": "code",
   "execution_count": null,
   "metadata": {},
   "outputs": [],
   "source": [
    "from gensim.summarization.summarizer import summarize\n",
    "\n",
    "def news_summary(sent_num=0.5):\n",
    "    voca_word = []\n",
    "    origin_news_num = []\n",
    "    summary = []\n",
    "    for list_idx, n_news in enumerate(tfidf_news):\n",
    "        #wd는 vocabulary 단어, tfidf는 tfidf계산된 값\n",
    "        for wd, tfidf in n_news:\n",
    "            if tfidf > sent_num:\n",
    "                voca_word += [(wd, list_idx)]\n",
    "                origin_news_num += [list_idx]\n",
    "    \n",
    "    origin_news_num.sort()\n",
    "    origin_news_num = set(origin_news_num)\n",
    "\n",
    "    # 위 for문에서 기사를 통으로 가져왔으므로 summarize\n",
    "    for news in cnews_20200801['내용'][origin_news_num]:\n",
    "        news_c = cleaning_tx(news)\n",
    "        summary += [summarize(news_c, ratio=0.1)]\n",
    "\n",
    "    return summary\n",
    "\n",
    "\"\"\"\n",
    "#요약을 두번하는 버전\n",
    "def news_summary(sent_num=0.5):\n",
    "    voca_word = []\n",
    "    origin_news_num = []\n",
    "    for list_idx, n_news in enumerate(tfidf_news):\n",
    "        #wd는 vocabulary 단어, tfidf는 tfidf계산된 값\n",
    "        for wd, tfidf in n_news:\n",
    "            if tfidf > sent_num:\n",
    "                voca_word += [(wd, list_idx)]\n",
    "                origin_news_num += [list_idx]\n",
    "    \n",
    "    origin_news_num.sort()\n",
    "    origin_news_num = set(origin_news_num)\n",
    "    \n",
    "    summary = ''\n",
    "    for news in cnews_20200801['내용'][origin_news_num]:\n",
    "        news_c = cleaning_tx(news)\n",
    "        summary += summarize(news_c, ratio=0.1) + ' '\n",
    "    \n",
    "    summary_news = summarize(summary, ratio=0.1)\n",
    "\n",
    "    return summary_news\n",
    "\"\"\""
   ]
  },
  {
   "cell_type": "code",
   "execution_count": null,
   "metadata": {},
   "outputs": [],
   "source": [
    "summarize_20200801 = news_summary()\n",
    "summarize_20200801"
   ]
  },
  {
   "cell_type": "code",
   "execution_count": null,
   "metadata": {},
   "outputs": [],
   "source": [
    "#기사지운 후\n",
    "def choose_word(word, freq=3):\n",
    "    word_idx = VOCA_20200801.index(word)\n",
    "    \n",
    "    news_idx = []\n",
    "    #tf_result : 기사별로 vocabulary의 등장빈도수를 계산한 리스트(리스트 in 리스트 형태)\n",
    "    for num in range(0, len(tf_result)):\n",
    "        if tf_result[num][word_idx] >\
     freq and num not in news_cos_sim:\n",
    "            news_idx.append(num)\n",
    "    \n",
    "    summary = ''\n",
    "    for news in clean_news[news_idx]:\n",
    "        news_c = cleaning_tx(news)\n",
    "        summary += summarize(news_c, ratio=0.1) + ' '\n",
    "    \n",
    "    \n",
    "    summary_news = summarize(summary, ratio=0.1)\n",
    "    \n",
    "    return summary_news"
   ]
  },
  {
   "cell_type": "code",
   "execution_count": null,
   "metadata": {},
   "outputs": [],
   "source": [
    "after_sum = choose_word('코로나', 5)"
   ]
  },
  {
   "cell_type": "code",
   "execution_count": null,
   "metadata": {},
   "outputs": [],
   "source": []
  }
 ],
 "metadata": {
  "kernelspec": {
   "display_name": "Python 3",
   "language": "python",
   "name": "python3"
  },
  "language_info": {
   "codemirror_mode": {
    "name": "ipython",
    "version": 3
   },
   "file_extension": ".py",
   "mimetype": "text/x-python",
   "name": "python",
   "nbconvert_exporter": "python",
   "pygments_lexer": "ipython3",
   "version": "3.7.2"
  }
 },
 "nbformat": 4,
 "nbformat_minor": 4
}
